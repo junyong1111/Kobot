{
  "nbformat": 4,
  "nbformat_minor": 0,
  "metadata": {
    "colab": {
      "name": "Start_YOLO.ipynb",
      "private_outputs": true,
      "provenance": [],
      "collapsed_sections": []
    },
    "kernelspec": {
      "name": "python3",
      "display_name": "Python 3"
    },
    "language_info": {
      "name": "python"
    },
    "accelerator": "GPU"
  },
  "cells": [
    {
      "cell_type": "markdown",
      "source": [
        "## COLAB환경에서 DARKNET 실습\n",
        "### YOLO_Project를 위해서는 GPU 필수\n",
        "#### YOLO : You Only Look Once \n",
        "이번 실습에서는 YOLO를 자신이 원하는 조건에 맞게  Custom\n",
        "\n",
        "# Colab 사용 이유\n",
        "* Darknet 사용해야 하는데 설치조건이 까다로운데 COLAB을 사용하면 공통적인 환경에서 실습가능 (예전에는 Linux만 지원을 했으나 요즘에는 Mac,Windows에도 지원해줌)\n",
        "* GPU연산을 통해서도 상당한 시간이 걸리는데 이걸 CPU연산을 하면 상당히 오랜시간이 걸림\n",
        "\n",
        "# Colab\n",
        "* 12시간마다 정보들이 휘발(무료버전)\n",
        "    * 구글드라이브로 정보들을 저장해야함\n",
        "    * Git을 이용 \n",
        "* GPU 연산 가능\n",
        "* Linux 환경\n",
        "* Data 시각화가능\n",
        "\n",
        "\n"
      ],
      "metadata": {
        "id": "-VJNXlqcl3Yr"
      }
    },
    {
      "cell_type": "markdown",
      "source": [
        "# 개발환경 만들기\n",
        "1. GPU Setup\n",
        "런타임 → 런타임 유형 변경 → 하드웨어 가속기(CPU) → 하드웨어 가속기(GPU)로 설정"
      ],
      "metadata": {
        "id": "pmWbTObuqwXY"
      }
    },
    {
      "cell_type": "code",
      "source": [
        "런타임 → 런타임 유형 변경 → 하드웨어 가속기(CPU) → 하드웨어 가속기(GPU)로 설정"
      ],
      "metadata": {
        "id": "3JjomRZVmX4m"
      },
      "execution_count": null,
      "outputs": []
    },
    {
      "cell_type": "markdown",
      "source": [
        "2. **Mount Google Drive**"
      ],
      "metadata": {
        "id": "ri6crIa_rLTO"
      }
    },
    {
      "cell_type": "code",
      "source": [
        "from google.colab import drive\n",
        "drive.mount('/content/drive')"
      ],
      "metadata": {
        "id": "Px-kebWmrikA"
      },
      "execution_count": null,
      "outputs": []
    },
    {
      "cell_type": "code",
      "source": [
        "!ls \n",
        "#확인"
      ],
      "metadata": {
        "id": "pn6AQmZYtm-W"
      },
      "execution_count": null,
      "outputs": []
    },
    {
      "cell_type": "markdown",
      "source": [
        "3. **Install CUDA related modules**\n",
        "* 대표적인 GPU "
      ],
      "metadata": {
        "id": "bTa8g6y5trJ8"
      }
    },
    {
      "cell_type": "code",
      "source": [
        "!/usr/local/cuda/bin/nvcc --version\n",
        "## 현재 CUDA버전 확인 현재 11.1\n",
        "''' NVIDIA 홈페이지에서 확인\n",
        "https://developer.nvidia.com/rdp/cudnn-download\n",
        "회원가입 후 다운로드\n",
        "cuDNN : CUDA의 소프트웨어\n",
        "deep neural networks를 사용하기 위해 \n",
        "자신의 CUDA 버전과 맞는 버전 다운\n",
        "'''\n",
        "!arch \n",
        "# 리눅스 버전확인\n",
        "'''\n",
        "다운받은 파일을 구글 Drive의 darknet이란 폴더를 만들고 그 안에 cuDNN 폴더를 만들어서 옮겨놓는다.\n",
        "연결된 경로복사 후 압축해제\n",
        "'''"
      ],
      "metadata": {
        "id": "OjuOzceOtwcN"
      },
      "execution_count": null,
      "outputs": []
    },
    {
      "cell_type": "code",
      "source": [
        "!tar -xzvf drive/MyDrive/Kobot/YOLO/darknet/cuDNN/cudnn-11.1-linux-x64-v8.0.5.39.tgz -C /usr/local/\n",
        "## 압축해제\n",
        "!chmod a+r /usr/local/cuda/include/cudnn.h"
      ],
      "metadata": {
        "id": "uVMT2nQwzzwj"
      },
      "execution_count": null,
      "outputs": []
    },
    {
      "cell_type": "code",
      "source": [
        "!cat /usr/local/cuda/include/cudnn.h\n",
        "# 설치확인"
      ],
      "metadata": {
        "id": "VbuqHL253nol"
      },
      "execution_count": null,
      "outputs": []
    },
    {
      "cell_type": "markdown",
      "source": [
        "**4. Install Draknet **\n",
        "* CUDA와 C와 기본으로 하며 빠르고 쉽다. \n",
        "* DarkNet install https://pjreddie.com/darknet/install/\n",
        "* Colab에서 사용하기 편하게 바꾼 코드 실행"
      ],
      "metadata": {
        "id": "os5u8OB45a16"
      }
    },
    {
      "cell_type": "code",
      "source": [
        "!git clone https://github.com/AlexeyAB/darknet.git\n",
        "%cd darknet"
      ],
      "metadata": {
        "id": "ndxAwxZS6CSx"
      },
      "execution_count": null,
      "outputs": []
    },
    {
      "cell_type": "code",
      "source": [
        "!ls\n",
        "# Clone 내용 확인"
      ],
      "metadata": {
        "id": "dOWG2avM6Yvv"
      },
      "execution_count": null,
      "outputs": []
    },
    {
      "cell_type": "code",
      "source": [
        "!git checkout feature/google-colab"
      ],
      "metadata": {
        "id": "kTFn95rGJufT"
      },
      "execution_count": null,
      "outputs": []
    },
    {
      "cell_type": "code",
      "source": [
        "#Compile DarkNet (매번 할 필요없이 1회만 하면 된다.)\n",
        "# Makefile 수정단계\n",
        "%cd /content/darknet/\n",
        "!sed -i 's/OPENCV=0/OPENCV=1/' Makefile\n",
        "!sed -i 's/GPU=0/GPU=1/' Makefile\n",
        "!sed -i 's/CUDNN=0/CUDNN=1/' Makefile\n",
        "!sed -i 's/CUDNN_HALF=0/CUDNN_HALF=1/' Makefile\n"
      ],
      "metadata": {
        "id": "zhygACfN6n0g"
      },
      "execution_count": null,
      "outputs": []
    },
    {
      "cell_type": "code",
      "source": [
        "import os\n",
        "if not os.path.exists('/content/drive/MyDrive/Kobot/YOLO/darknet/bin'):\n",
        "    os.makedirs('/content/drive/MyDrive/Kobot/YOLO/darknet/bin')\n",
        "# 만약 bin이라는 폴더가 없다면 bin이라는 폴더를 생성하는 코드"
      ],
      "metadata": {
        "id": "-bG_zrYp-UTL"
      },
      "execution_count": null,
      "outputs": []
    },
    {
      "cell_type": "code",
      "source": [
        "!make"
      ],
      "metadata": {
        "id": "3SegHsYyxxGN"
      },
      "execution_count": null,
      "outputs": []
    },
    {
      "cell_type": "code",
      "source": [
        "!cp -r ./darknet /content/drive/MyDrive/Kobot/YOLO/darknet/bin/darknet\n",
        "# 드라이브에 복사 \n",
        "# 컴파일 과정없이 다음부터는 불러오면 된다 아래 참조"
      ],
      "metadata": {
        "id": "3VIdiTQCAPHE"
      },
      "execution_count": null,
      "outputs": []
    },
    {
      "cell_type": "code",
      "source": [
        "# Use compiled darknet in your Google Drive after the first compile\n",
        "# 1. Makes a darknet dir\n",
        "# !mkdir darknet\n",
        "# %cd darknet\n",
        "\n",
        "# 2. Copy the Darknet compiled version to the VM\n",
        "# !cp /content/drive/MyDrive/Kobot/YOLO/darknet/bin/darknet ./darknet\n",
        "\n",
        "# 3. Set execution permissions\n",
        "# !chmod +x ./darknet"
      ],
      "metadata": {
        "id": "jSJIlqgqBZKE"
      },
      "execution_count": null,
      "outputs": []
    },
    {
      "cell_type": "markdown",
      "source": [
        "5. Colab 에서 Yolo 사용"
      ],
      "metadata": {
        "id": "kp_0JwlcCNJ5"
      }
    },
    {
      "cell_type": "code",
      "source": [
        "#download files\n",
        "\n",
        "def imShow(path):\n",
        "    import cv2\n",
        "    import matplotlib.pyplot as plt\n",
        "    %matplotlib inline\n",
        "\n",
        "    img = cv2.imread(path)\n",
        "    height , width = img.shape[:2]\n",
        "    resized_img = cv2.resize(img, (3*width, 3*height),interpolation = cv2.INTER_CUBIC)\n",
        "\n",
        "    fig = plt.gcf()\n",
        "    fig.set_size_inches(18,10)\n",
        "    plt.axis(\"off\")\n",
        "    #plt.rcParams['figure.figsize'] = [10,5]\n",
        "    plt.imshow(cv2.cvtColor(resized_img, cv2.COLOR_BGR2RGB))\n",
        "    plt.show()\n",
        "\n",
        "def upload():\n",
        "    from google.colab import files\n",
        "    uploaded = files.upload()\n",
        "    for name, data in uploaded.items():\n",
        "        with open(name, \"wb\") as f:\n",
        "            f.write(data)\n",
        "            print(\"saved file\", name)\n",
        "def download(path):\n",
        "    from google.colab import files\n",
        "    files.download(path)"
      ],
      "metadata": {
        "id": "omxskvuBCcZ0"
      },
      "execution_count": null,
      "outputs": []
    },
    {
      "cell_type": "code",
      "source": [
        "# Darknet 에서 미리 학습된 데이터를 구글드라이브에서 가져와서 복사\n",
        "# https://pjreddie.com/darknet/yolo/\n",
        "!cp -r \"/content/drive/MyDrive/Kobot/YOLO/darknet/weights\" ./weights\n",
        "%ls "
      ],
      "metadata": {
        "id": "Gqe8Wb4BDuCS"
      },
      "execution_count": null,
      "outputs": []
    },
    {
      "cell_type": "markdown",
      "source": [
        "# Tset YOLO"
      ],
      "metadata": {
        "id": "LytegxgmGRVS"
      }
    },
    {
      "cell_type": "code",
      "source": [
        "!./darknet detect cfg/yolov4.cfg weights/yolov4.weights data/dog.jpg"
      ],
      "metadata": {
        "id": "236lbQr7GV67"
      },
      "execution_count": null,
      "outputs": []
    },
    {
      "cell_type": "code",
      "source": [
        "#학습된 파일은 predictions.jpg 이라는 이름으로 저장된다. \n",
        "imShow('predictions.jpg')"
      ],
      "metadata": {
        "id": "osgs9k3oygPm"
      },
      "execution_count": null,
      "outputs": []
    }
  ]
}